{
  "cells": [
    {
      "cell_type": "code",
      "execution_count": 17,
      "metadata": {
        "colab": {
          "base_uri": "https://localhost:8080/"
        },
        "id": "Bk_oqfI5LBTa",
        "outputId": "99dd1e4d-c794-4f19-8683-172512d20499"
      },
      "outputs": [
        {
          "output_type": "stream",
          "name": "stdout",
          "text": [
            "선택된 숫자들: [9, 10, 12, 34, 35, 36]\n",
            "이웃수에서 선택된 숫자: [12]\n",
            "인터넷에서 선택된 숫자: [12, 35] (총 2개)\n",
            "이웃수제외에서 선택된 숫자: [9, 35, 34, 36, 10]\n",
            "홀수 개수: 2, 짝수 개수: 4\n"
          ]
        }
      ],
      "source": [
        "import random\n",
        "# 이로일나\n",
        "# 08-07\n",
        "# 1, 6, 17, 22, 24, 35\n",
        "#\n",
        "# 그룹 정의\n",
        "\n",
        "# 이웃수\n",
        "a_group = [2, 3, 5, 6, 13, 14, 16, 18, 19, 21, 22, 24 ,25, 26, 28, 29, 34, 35, 37, 38]\n",
        "# 이웃수 제외한 나머지\n",
        "b_group = [x for x in range(1, 46) if x not in a_group]\n",
        "# 인터넷\n",
        "c_group = [3, 4, 5, 6, 8, 11, 12, 13, 16, 20, 22, 24, 27, 31, 32, 34, 36, 38, 39, 40, 41, 43, 44]\n",
        "\n",
        "# 조건을 만족하는 6개 숫자 찾기\n",
        "while True:\n",
        "    # # a_group과 b_group에서 각각 2~4개 선택\n",
        "    a_count = random.randint(1, 2)  # a_group에서 선택할 개수 (2~4개)\n",
        "    b_count = 6 - a_count           # b_group에서 선택할 개수 (6에서 a_count를 뺀 값, 2~4개)\n",
        "\n",
        "    # a와 b에서 3개씩 선택\n",
        "    # a_count = 1  # a_group에서 3개 숫자 선택\n",
        "    # b_count = 5  # b_group에서 3개 숫자 선택\n",
        "\n",
        "    # a_group과 b_group에서 각각 숫자 선택\n",
        "    selected_a = random.sample(a_group, a_count)\n",
        "    selected_b = random.sample(b_group, b_count)\n",
        "\n",
        "    # 최종 6개의 숫자\n",
        "    selected_numbers = selected_a + selected_b\n",
        "\n",
        "    # 선택된 숫자 중 c_group에 속하는 숫자 확인\n",
        "    selected_c = [num for num in selected_numbers if num in c_group]\n",
        "    c_count = len(selected_c)\n",
        "\n",
        "    # 홀수와 짝수의 개수 확인\n",
        "    odd_count = sum(1 for num in selected_numbers if num % 2 != 0)\n",
        "    even_count = 6 - odd_count\n",
        "\n",
        "    # 조건을 만족하면 출력 후 종료\n",
        "    if 2 <= c_count <= 4:\n",
        "    #if c_count == 1 or c_count == 2:\n",
        "        print(\"선택된 숫자들:\", sorted(selected_numbers))\n",
        "        print(f\"이웃수에서 선택된 숫자: {selected_a}\")\n",
        "        print(f\"인터넷에서 선택된 숫자: {selected_c} (총 {c_count}개)\")\n",
        "        print(f\"이웃수제외에서 선택된 숫자: {selected_b}\")\n",
        "        print(f\"홀수 개수: {odd_count}, 짝수 개수: {even_count}\")\n",
        "        break\n"
      ]
    },
    {
      "cell_type": "code",
      "source": [
        "import random\n",
        "\n",
        "\n",
        "# 🎯 이전 회차 당첨 번호 (수정 가능)\n",
        "prev_winning_nums = [4, 15, 17, 23, 27, 36]\n",
        "\n",
        "# A그룹: 이웃수 ±2\n",
        "a_group = set()\n",
        "for n in prev_winning_nums:\n",
        "    for offset in [-2, -1, 1, 2]:\n",
        "        val = n + offset\n",
        "        if 1 <= val <= 45:\n",
        "            a_group.add(val)\n",
        "a_group = sorted(a_group)\n",
        "\n",
        "# C그룹: 온라인 추천 번호\n",
        "c_group = [3, 4, 5, 6, 8, 11, 12, 13, 16, 20, 22, 24, 27, 31, 32, 34, 36, 38, 39, 40, 41, 43, 44]\n",
        "\n",
        "# B그룹: 1~45에서 A그룹만 제외 (C그룹 포함 가능)\n",
        "all_nums = set(range(1, 46))\n",
        "b_group = sorted(all_nums - set(a_group))\n",
        "\n",
        "# ✅ 조건을 만족하는 조합 1세트 생성 함수\n",
        "def generate_lotto_set():\n",
        "    for _ in range(1000):  # 조건 만족할 때까지 최대 1000회 시도\n",
        "        a_count = random.randint(2, 4)\n",
        "        a_pick = random.sample(a_group, a_count)\n",
        "        b_pick = random.sample(b_group, 6 - a_count)\n",
        "        candidate = sorted(a_pick + b_pick)\n",
        "\n",
        "        # C그룹 포함 여부 확인\n",
        "        c_included = [n for n in candidate if n in c_group]\n",
        "        if 3 <= len(c_included) <= 4:\n",
        "            return candidate, c_included\n",
        "    return None, None\n",
        "\n",
        "# ✅ 결과 출력 (1세트만)\n",
        "lotto_set, c_included_nums = generate_lotto_set()\n",
        "if lotto_set:\n",
        "    print(\"🎯 조건에 맞는 로또 번호 1세트:\", lotto_set)\n",
        "    print(f\"🔍 C그룹 숫자 포함 수: {len(c_included_nums)}개 -> {c_included_nums}\")\n",
        "\n",
        "    # A, B, C 그룹 각각에서 포함된 숫자 확인\n",
        "    a_included = [n for n in lotto_set if n in a_group]\n",
        "    b_included = [n for n in lotto_set if n in b_group]\n",
        "    c_included = [n for n in lotto_set if n in c_group]\n",
        "\n",
        "    print(f\"🟦 이웃수 번호: {a_included}\")\n",
        "    print(f\"🟥 인터넷 번호: {c_included}\")\n",
        "    print(f\"🟨 이웃수 제외 번호: {b_included}\")\n",
        "else:\n",
        "    print(\"❌ 조건을 만족하는 조합을 찾지 못했습니다.\")\n"
      ],
      "metadata": {
        "id": "09rQNGtdFH8W",
        "outputId": "7d7b0cf3-9069-4895-a224-7e2cf8f5a1fe",
        "colab": {
          "base_uri": "https://localhost:8080/"
        }
      },
      "execution_count": 8,
      "outputs": [
        {
          "output_type": "stream",
          "name": "stdout",
          "text": [
            "🎯 조건에 맞는 로또 번호 1세트: [12, 18, 19, 24, 31, 45]\n",
            "🔍 C그룹 숫자 포함 수: 3개 -> [12, 18, 24]\n",
            "🟦 이웃수 번호: [12, 19, 24]\n",
            "🟥 인터넷 번호: [12, 18, 24]\n",
            "🟨 이웃수 제외 번호: [18, 31, 45]\n"
          ]
        }
      ]
    },
    {
      "cell_type": "code",
      "source": [
        "import random\n",
        "from collections import Counter, defaultdict\n",
        "\n",
        "# 로또 번호 생성 함수\n",
        "def generate_lotto_numbers():\n",
        "    return tuple(sorted(random.sample(range(1, 46), 6)))\n",
        "\n",
        "# 전체 시뮬레이션 수\n",
        "N = 50_000_000\n",
        "BATCH = 5_000_000  # 500만 단위로 나눠서 반복\n",
        "\n",
        "results = Counter()\n",
        "\n",
        "print(\"🚀 시뮬레이션 시작...\")\n",
        "\n",
        "for i in range(N // BATCH):\n",
        "    batch = [generate_lotto_numbers() for _ in range(BATCH)]\n",
        "    results += Counter(batch)\n",
        "    print(f\"🔁 {i+1}차 배치 완료\")\n",
        "\n",
        "# 3~10회 등장한 조합만 필터링\n",
        "filtered = [k for k, v in results.items() if 2 <= v <= 5]\n",
        "\n",
        "if filtered:\n",
        "    print(\"\\n📖 조건 만족 조합 수:\", len(filtered))\n",
        "\n",
        "    # 🎯 무작위 추천 번호 출력\n",
        "    selected = random.choice(filtered)\n",
        "    print(f\"추천 번호 :🎯 {selected}🎯 \")\n",
        "    print(f\"🔎 이 조합은 총 {results[selected]}회 등장했습니다.\")\n",
        "\n",
        "    # 📊 등장 횟수별 조합 수 세기\n",
        "    freq_dist = defaultdict(int)\n",
        "    for combo in filtered:\n",
        "        freq = results[combo]\n",
        "        freq_dist[freq] += 1\n",
        "\n",
        "    # 결과 출력\n",
        "    print(\"\\n📊 [등장 횟수별 조합 수]\")\n",
        "    for freq in sorted(freq_dist):\n",
        "        print(f\"{freq}회 등장한 조합 수: {freq_dist[freq]}개\")\n",
        "else:\n",
        "    print(\"⚠️ 조건을 만족하는 번호 조합 없음. N을 더 늘리세요.\")\n"
      ],
      "metadata": {
        "colab": {
          "base_uri": "https://localhost:8080/"
        },
        "id": "SF9F9xKFqTSA",
        "outputId": "ea376b8b-e28f-4bd7-c444-f61791c8891d"
      },
      "execution_count": 16,
      "outputs": [
        {
          "output_type": "stream",
          "name": "stdout",
          "text": [
            "🚀 시뮬레이션 시작...\n",
            "🔁 1차 배치 완료\n",
            "🔁 2차 배치 완료\n",
            "🔁 3차 배치 완료\n",
            "🔁 4차 배치 완료\n",
            "🔁 5차 배치 완료\n",
            "🔁 6차 배치 완료\n",
            "🔁 7차 배치 완료\n",
            "🔁 8차 배치 완료\n",
            "🔁 9차 배치 완료\n",
            "🔁 10차 배치 완료\n",
            "\n",
            "📖 조건 만족 조합 수: 3325305\n",
            "추천 번호 :🎯 (9, 13, 15, 17, 41, 42)🎯 \n",
            "🔎 이 조합은 총 5회 등장했습니다.\n",
            "\n",
            "📊 [등장 횟수별 조합 수]\n",
            "2회 등장한 조합 수: 331659개\n",
            "3회 등장한 조합 수: 678024개\n",
            "4회 등장한 조합 수: 1038950개\n",
            "5회 등장한 조합 수: 1276672개\n"
          ]
        }
      ]
    },
    {
      "cell_type": "code",
      "source": [
        "# ✅ 한글 폰트 설치 (NanumGothic)\n",
        "!apt-get -qq install -y fonts-nanum\n",
        "import matplotlib.font_manager as fm\n",
        "import matplotlib.pyplot as plt\n",
        "\n",
        "# ✅ 기본 폰트 설정\n",
        "plt.rc('font', family='NanumGothic')\n",
        "plt.rcParams['axes.unicode_minus'] = False  # 음수 깨짐 방지\n"
      ],
      "metadata": {
        "id": "08W3rJiVa9fR"
      },
      "execution_count": null,
      "outputs": []
    },
    {
      "cell_type": "code",
      "source": [
        "import matplotlib.pyplot as plt\n",
        "import seaborn as sns\n",
        "\n",
        "# Seaborn 스타일 설정\n",
        "sns.set(style=\"whitegrid\")\n",
        "\n",
        "# 등장 횟수와 해당 조합 수 리스트 생성 (자동으로 x축과 y축 설정)\n",
        "x = sorted(freq_dist.keys())         # 등장 횟수 (1~10 사이일 가능성 있음)\n",
        "y = [freq_dist[f] for f in x]        # 각 등장 횟수에 해당하는 조합 수\n",
        "\n",
        "# 그래프 출력\n",
        "plt.figure(figsize=(10, 6))\n",
        "sns.barplot(x=x, y=y, palette=\"mako\")\n",
        "\n",
        "plt.title(\"등장 횟수별 로또 번호 조합 수\", fontsize=16)\n",
        "plt.xlabel(\"등장 횟수\", fontsize=13)\n",
        "plt.ylabel(\"해당 조합 수\", fontsize=13)\n",
        "plt.xticks(fontsize=11)\n",
        "plt.yticks(fontsize=11)\n",
        "plt.tight_layout()\n",
        "plt.show()\n"
      ],
      "metadata": {
        "id": "Lr4LhiC-fHt5"
      },
      "execution_count": null,
      "outputs": []
    }
  ],
  "metadata": {
    "kernelspec": {
      "display_name": "langchain",
      "language": "python",
      "name": "python3"
    },
    "language_info": {
      "codemirror_mode": {
        "name": "ipython",
        "version": 3
      },
      "file_extension": ".py",
      "mimetype": "text/x-python",
      "name": "python",
      "nbconvert_exporter": "python",
      "pygments_lexer": "ipython3",
      "version": "3.11.10"
    },
    "colab": {
      "provenance": []
    }
  },
  "nbformat": 4,
  "nbformat_minor": 0
}