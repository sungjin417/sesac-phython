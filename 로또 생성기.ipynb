{
  "cells": [
    {
      "cell_type": "code",
      "execution_count": 5,
      "metadata": {
        "colab": {
          "base_uri": "https://localhost:8080/"
        },
        "id": "Bk_oqfI5LBTa",
        "outputId": "45361496-2086-420e-8425-11b9fd441869"
      },
      "outputs": [
        {
          "output_type": "stream",
          "name": "stdout",
          "text": [
            "선택된 숫자들: [7, 17, 29, 35, 37, 38]\n",
            "a_group에서 선택된 숫자: [29, 17, 37, 7]\n",
            "b_group에서 선택된 숫자: [38, 35]\n",
            "c_group에서 선택된 숫자: [29, 37, 7, 38] (총 4개)\n",
            "홀수 개수: 5, 짝수 개수: 1\n"
          ]
        }
      ],
      "source": [
        "import random\n",
        "# 이로일나\n",
        "# 5-26\n",
        "# 1, 6, 17, 22, 24, 35\n",
        "#\n",
        "# 그룹 정의\n",
        "\n",
        "# 이웃수\n",
        "a_group = [2, 3, 4, 6, 7, 16, 17, 19, 21, 22, 28, 29, 31, 32, 33, 34, 36, 37]\n",
        "# 이웃수 제외한 나머지\n",
        "b_group = [x for x in range(1, 46) if x not in a_group]\n",
        "# 인터넷\n",
        "c_group = [1, 3, 6, 7, 8, 9, 10, 11, 14, 16, 19, 20, 26, 29, 30, 33, 34, 36, 37, 38, 39, 40, 44]\n",
        "\n",
        "# 조건을 만족하는 6개 숫자 찾기\n",
        "while True:\n",
        "    # # a_group과 b_group에서 각각 2~4개 선택\n",
        "    a_count = random.randint(2, 4)  # a_group에서 선택할 개수 (2~4개)\n",
        "    b_count = 6 - a_count           # b_group에서 선택할 개수 (6에서 a_count를 뺀 값, 2~4개)\n",
        "\n",
        "    # a와 b에서 3개씩 선택\n",
        "    # a_count = 1  # a_group에서 3개 숫자 선택\n",
        "    # b_count = 5  # b_group에서 3개 숫자 선택\n",
        "\n",
        "    # a_group과 b_group에서 각각 숫자 선택\n",
        "    selected_a = random.sample(a_group, a_count)\n",
        "    selected_b = random.sample(b_group, b_count)\n",
        "\n",
        "    # 최종 6개의 숫자\n",
        "    selected_numbers = selected_a + selected_b\n",
        "\n",
        "    # 선택된 숫자 중 c_group에 속하는 숫자 확인\n",
        "    selected_c = [num for num in selected_numbers if num in c_group]\n",
        "    c_count = len(selected_c)\n",
        "\n",
        "    # 홀수와 짝수의 개수 확인\n",
        "    odd_count = sum(1 for num in selected_numbers if num % 2 != 0)\n",
        "    even_count = 6 - odd_count\n",
        "\n",
        "    # 조건을 만족하면 출력 후 종료\n",
        "    if 3 <= c_count <= 4:\n",
        "    #if c_count == 1 or c_count == 2:\n",
        "        print(\"선택된 숫자들:\", sorted(selected_numbers))\n",
        "        print(f\"a_group에서 선택된 숫자: {selected_a}\")\n",
        "        print(f\"b_group에서 선택된 숫자: {selected_b}\")\n",
        "        print(f\"c_group에서 선택된 숫자: {selected_c} (총 {c_count}개)\")\n",
        "        print(f\"홀수 개수: {odd_count}, 짝수 개수: {even_count}\")\n",
        "        break\n"
      ]
    },
    {
      "cell_type": "code",
      "source": [
        "import random\n",
        "\n",
        "\n",
        "# 🎯 이전 회차 당첨 번호 (수정 가능)\n",
        "prev_winning_nums = [1, 5, 18, 20, 30, 35]\n",
        "\n",
        "# A그룹: 이웃수 ±2\n",
        "a_group = set()\n",
        "for n in prev_winning_nums:\n",
        "    for offset in [-2, -1, 1, 2]:\n",
        "        val = n + offset\n",
        "        if 1 <= val <= 45:\n",
        "            a_group.add(val)\n",
        "a_group = sorted(a_group)\n",
        "\n",
        "# C그룹: 온라인 추천 번호\n",
        "c_group = [1, 3, 6, 7, 8, 9, 10, 11, 14, 16, 19, 20, 26, 29, 30, 33, 34, 36, 37, 38, 39, 40, 44]\n",
        "\n",
        "# B그룹: 1~45에서 A그룹만 제외 (C그룹 포함 가능)\n",
        "all_nums = set(range(1, 46))\n",
        "b_group = sorted(all_nums - set(a_group))\n",
        "\n",
        "# ✅ 조건을 만족하는 조합 1세트 생성 함수\n",
        "def generate_lotto_set():\n",
        "    for _ in range(1000):  # 조건 만족할 때까지 최대 1000회 시도\n",
        "        a_count = random.randint(1, 3)\n",
        "        a_pick = random.sample(a_group, a_count)\n",
        "        b_pick = random.sample(b_group, 6 - a_count)\n",
        "        candidate = sorted(a_pick + b_pick)\n",
        "\n",
        "        # C그룹 포함 여부 확인\n",
        "        c_included = [n for n in candidate if n in c_group]\n",
        "        if 3 <= len(c_included) <= 4:\n",
        "            return candidate, c_included\n",
        "    return None, None\n",
        "\n",
        "# ✅ 결과 출력 (1세트만)\n",
        "lotto_set, c_included_nums = generate_lotto_set()\n",
        "if lotto_set:\n",
        "    print(\"🎯 조건에 맞는 로또 번호 1세트:\", lotto_set)\n",
        "    print(f\"🔍 C그룹 숫자 포함 수: {len(c_included_nums)}개 -> {c_included_nums}\")\n",
        "\n",
        "    # A, B, C 그룹 각각에서 포함된 숫자 확인\n",
        "    a_included = [n for n in lotto_set if n in a_group]\n",
        "    b_included = [n for n in lotto_set if n in b_group]\n",
        "    c_included = [n for n in lotto_set if n in c_group]\n",
        "\n",
        "    print(f\"🟦 A그룹 포함 번호: {a_included}\")\n",
        "    print(f\"🟨 B그룹 포함 번호: {b_included}\")\n",
        "    print(f\"🟥 C그룹 포함 번호: {c_included}\")\n",
        "else:\n",
        "    print(\"❌ 조건을 만족하는 조합을 찾지 못했습니다.\")\n"
      ],
      "metadata": {
        "id": "09rQNGtdFH8W",
        "outputId": "a001ca49-2f03-4ebd-e1ba-232599f59b64",
        "colab": {
          "base_uri": "https://localhost:8080/"
        }
      },
      "execution_count": 6,
      "outputs": [
        {
          "output_type": "stream",
          "name": "stdout",
          "text": [
            "🎯 조건에 맞는 로또 번호 1세트: [11, 17, 20, 27, 30, 38]\n",
            "🔍 C그룹 숫자 포함 수: 4개 -> [11, 20, 30, 38]\n",
            "🟦 A그룹 포함 번호: [17, 20]\n",
            "🟨 B그룹 포함 번호: [11, 27, 30, 38]\n",
            "🟥 C그룹 포함 번호: [11, 20, 30, 38]\n"
          ]
        }
      ]
    }
  ],
  "metadata": {
    "kernelspec": {
      "display_name": "langchain",
      "language": "python",
      "name": "python3"
    },
    "language_info": {
      "codemirror_mode": {
        "name": "ipython",
        "version": 3
      },
      "file_extension": ".py",
      "mimetype": "text/x-python",
      "name": "python",
      "nbconvert_exporter": "python",
      "pygments_lexer": "ipython3",
      "version": "3.11.10"
    },
    "colab": {
      "provenance": []
    }
  },
  "nbformat": 4,
  "nbformat_minor": 0
}