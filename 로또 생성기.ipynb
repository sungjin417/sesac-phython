{
  "cells": [
    {
      "cell_type": "code",
      "execution_count": 4,
      "metadata": {
        "colab": {
          "base_uri": "https://localhost:8080/"
        },
        "id": "Bk_oqfI5LBTa",
        "outputId": "0b975cdb-ace8-41c9-90a9-7fca7cbadf1a"
      },
      "outputs": [
        {
          "output_type": "stream",
          "name": "stdout",
          "text": [
            "선택된 숫자들: [1, 6, 11, 23, 39, 40]\n",
            "a_group에서 선택된 숫자: [23, 6, 39]\n",
            "b_group에서 선택된 숫자: [11, 1, 40]\n",
            "c_group에서 선택된 숫자: [23, 6, 39, 11] (총 4개)\n",
            "홀수 개수: 4, 짝수 개수: 2\n"
          ]
        }
      ],
      "source": [
        "import random\n",
        "# 이로일나\n",
        "# 5-18\n",
        "# 1, 6, 17, 22, 24, 35\n",
        "# 21\n",
        "# 그룹 정의\n",
        "\n",
        "# 이웃수\n",
        "a_group = [3, 4, 6, 10, 12, 13, 14, 15, 16, 18, 20, 21, 23, 27, 29, 30, 33, 37, 39, 41, 42, 44]\n",
        "# 이웃수 제외한 나머지\n",
        "b_group = [x for x in range(1, 46) if x not in a_group]\n",
        "# 인터넷\n",
        "c_group = [5, 6, 8, 10, 11, 22, 23, 25, 26, 38, 39, 41, 43, 45]\n",
        "\n",
        "# 조건을 만족하는 6개 숫자 찾기\n",
        "while True:\n",
        "    # # a_group과 b_group에서 각각 2~4개 선택\n",
        "    a_count = random.randint(3, 4)  # a_group에서 선택할 개수 (2~4개)\n",
        "    b_count = 6 - a_count           # b_group에서 선택할 개수 (6에서 a_count를 뺀 값, 2~4개)\n",
        "\n",
        "    # a와 b에서 3개씩 선택\n",
        "    # a_count = 1  # a_group에서 3개 숫자 선택\n",
        "    # b_count = 5  # b_group에서 3개 숫자 선택\n",
        "\n",
        "    # a_group과 b_group에서 각각 숫자 선택\n",
        "    selected_a = random.sample(a_group, a_count)\n",
        "    selected_b = random.sample(b_group, b_count)\n",
        "\n",
        "    # 최종 6개의 숫자\n",
        "    selected_numbers = selected_a + selected_b\n",
        "\n",
        "    # 선택된 숫자 중 c_group에 속하는 숫자 확인\n",
        "    selected_c = [num for num in selected_numbers if num in c_group]\n",
        "    c_count = len(selected_c)\n",
        "\n",
        "    # 홀수와 짝수의 개수 확인\n",
        "    odd_count = sum(1 for num in selected_numbers if num % 2 != 0)\n",
        "    even_count = 6 - odd_count\n",
        "\n",
        "    # 조건을 만족하면 출력 후 종료\n",
        "    if c_count >= 4:\n",
        "    #if c_count == 1 or c_count == 2:\n",
        "        print(\"선택된 숫자들:\", sorted(selected_numbers))\n",
        "        print(f\"a_group에서 선택된 숫자: {selected_a}\")\n",
        "        print(f\"b_group에서 선택된 숫자: {selected_b}\")\n",
        "        print(f\"c_group에서 선택된 숫자: {selected_c} (총 {c_count}개)\")\n",
        "        print(f\"홀수 개수: {odd_count}, 짝수 개수: {even_count}\")\n",
        "        break\n"
      ]
    },
    {
      "cell_type": "code",
      "source": [],
      "metadata": {
        "id": "09rQNGtdFH8W"
      },
      "execution_count": null,
      "outputs": []
    }
  ],
  "metadata": {
    "kernelspec": {
      "display_name": "langchain",
      "language": "python",
      "name": "python3"
    },
    "language_info": {
      "codemirror_mode": {
        "name": "ipython",
        "version": 3
      },
      "file_extension": ".py",
      "mimetype": "text/x-python",
      "name": "python",
      "nbconvert_exporter": "python",
      "pygments_lexer": "ipython3",
      "version": "3.11.10"
    },
    "colab": {
      "provenance": []
    }
  },
  "nbformat": 4,
  "nbformat_minor": 0
}