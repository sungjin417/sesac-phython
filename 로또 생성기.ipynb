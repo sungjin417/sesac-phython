{
  "cells": [
    {
      "cell_type": "code",
      "execution_count": 5,
      "metadata": {
        "colab": {
          "base_uri": "https://localhost:8080/"
        },
        "id": "Bk_oqfI5LBTa",
        "outputId": "c057c3ee-ff90-49e1-c850-69d1854ffc38"
      },
      "outputs": [
        {
          "output_type": "stream",
          "name": "stdout",
          "text": [
            "선택된 숫자들: [6, 9, 15, 22, 27, 39]\n",
            "a_group에서 선택된 숫자: [27, 6, 9, 39]\n",
            "b_group에서 선택된 숫자: [22, 15]\n",
            "c_group에서 선택된 숫자: [27, 6, 39, 15] (총 4개)\n",
            "홀수 개수: 4, 짝수 개수: 2\n"
          ]
        }
      ],
      "source": [
        "import random\n",
        "# 1-16\n",
        "# 그룹 정의\n",
        "\n",
        "# 이웃수\n",
        "a_group = [2, 3, 5, 6, 7, 9, 10, 20, 21, 23, 24, 25, 27, 28, 30, 31, 33, 34, 36, 37, 39, 40]\n",
        "# 이웃수 제외한 나머지\n",
        "b_group = [x for x in range(1, 46) if x not in a_group]\n",
        "# 인터넷\n",
        "c_group = [1, 5, 6, 10, 11, 14, 15, 16, 17, 18, 19, 20, 27, 28, 29, 33, 36, 37, 39, 40, 41, 42, 43, 44]\n",
        "\n",
        "# 조건을 만족하는 6개 숫자 찾기\n",
        "while True:\n",
        "    # # a_group과 b_group에서 각각 2~4개 선택\n",
        "    # a_count = random.randint(2, 4)  # a_group에서 선택할 개수 (2~4개)\n",
        "    # b_count = 6 - a_count           # b_group에서 선택할 개수 (6에서 a_count를 뺀 값, 2~4개)\n",
        "\n",
        "    # a와 b에서 3개씩 선택\n",
        "    a_count = 4  # a_group에서 3개 숫자 선택\n",
        "    b_count = 2  # b_group에서 3개 숫자 선택\n",
        "\n",
        "    # a_group과 b_group에서 각각 숫자 선택\n",
        "    selected_a = random.sample(a_group, a_count)\n",
        "    selected_b = random.sample(b_group, b_count)\n",
        "\n",
        "    # 최종 6개의 숫자\n",
        "    selected_numbers = selected_a + selected_b\n",
        "\n",
        "    # 선택된 숫자 중 c_group에 속하는 숫자 확인\n",
        "    selected_c = [num for num in selected_numbers if num in c_group]\n",
        "    c_count = len(selected_c)\n",
        "\n",
        "    # 홀수와 짝수의 개수 확인\n",
        "    odd_count = sum(1 for num in selected_numbers if num % 2 != 0)\n",
        "    even_count = 6 - odd_count\n",
        "\n",
        "    # 조건을 만족하면 출력 후 종료\n",
        "    if c_count >= 4:\n",
        "        print(\"선택된 숫자들:\", sorted(selected_numbers))\n",
        "        print(f\"a_group에서 선택된 숫자: {selected_a}\")\n",
        "        print(f\"b_group에서 선택된 숫자: {selected_b}\")\n",
        "        print(f\"c_group에서 선택된 숫자: {selected_c} (총 {c_count}개)\")\n",
        "        print(f\"홀수 개수: {odd_count}, 짝수 개수: {even_count}\")\n",
        "        break\n"
      ]
    },
    {
      "cell_type": "code",
      "execution_count": null,
      "metadata": {
        "id": "Y6F2AMuYLBTe"
      },
      "outputs": [],
      "source": []
    },
    {
      "cell_type": "code",
      "execution_count": null,
      "metadata": {
        "id": "HsDGcncvLBTe"
      },
      "outputs": [],
      "source": []
    }
  ],
  "metadata": {
    "kernelspec": {
      "display_name": "langchain",
      "language": "python",
      "name": "python3"
    },
    "language_info": {
      "codemirror_mode": {
        "name": "ipython",
        "version": 3
      },
      "file_extension": ".py",
      "mimetype": "text/x-python",
      "name": "python",
      "nbconvert_exporter": "python",
      "pygments_lexer": "ipython3",
      "version": "3.11.10"
    },
    "colab": {
      "provenance": []
    }
  },
  "nbformat": 4,
  "nbformat_minor": 0
}